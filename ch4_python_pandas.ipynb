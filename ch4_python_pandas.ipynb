{
  "nbformat": 4,
  "nbformat_minor": 0,
  "metadata": {
    "colab": {
      "name": "ch4_python_pandas.ipynb",
      "provenance": [],
      "toc_visible": true,
      "include_colab_link": true
    },
    "kernelspec": {
      "name": "python3",
      "display_name": "Python 3"
    }
  },
  "cells": [
    {
      "cell_type": "markdown",
      "metadata": {
        "id": "view-in-github",
        "colab_type": "text"
      },
      "source": [
        "<a href=\"https://colab.research.google.com/github/kwondogeun/green/blob/main/ch4_python_pandas.ipynb\" target=\"_parent\"><img src=\"https://colab.research.google.com/assets/colab-badge.svg\" alt=\"Open In Colab\"/></a>"
      ]
    },
    {
      "cell_type": "markdown",
      "metadata": {
        "id": "EmiByNBpmHFV"
      },
      "source": [
        "## 라이브러리 불러오기"
      ]
    },
    {
      "cell_type": "code",
      "metadata": {
        "colab": {
          "base_uri": "https://localhost:8080/"
        },
        "id": "dpWa6TPIbJ29",
        "outputId": "fac14a59-127f-467b-8177-58804cd68bc8"
      },
      "source": [
        "import pandas as pd\n",
        "print(pd.__version__)"
      ],
      "execution_count": 6,
      "outputs": [
        {
          "output_type": "stream",
          "name": "stdout",
          "text": [
            "1.1.5\n"
          ]
        }
      ]
    },
    {
      "cell_type": "markdown",
      "metadata": {
        "id": "e7CGP-CVmNqH"
      },
      "source": [
        "### 테스트"
      ]
    },
    {
      "cell_type": "code",
      "metadata": {
        "colab": {
          "base_uri": "https://localhost:8080/"
        },
        "id": "E3PgxEfFmgg4",
        "outputId": "2516751b-75ec-4558-90d9-9053a1489917"
      },
      "source": [
        "df = pd.DataFrame({'col1': [1, 2], 'col2': [3, 4]})\n",
        "print(type(df))"
      ],
      "execution_count": 7,
      "outputs": [
        {
          "output_type": "stream",
          "name": "stdout",
          "text": [
            "<class 'pandas.core.frame.DataFrame'>\n"
          ]
        }
      ]
    },
    {
      "cell_type": "markdown",
      "metadata": {
        "id": "jH5dlOgMriuO"
      },
      "source": [
        "## 구글 드라이브 연동"
      ]
    },
    {
      "cell_type": "code",
      "metadata": {
        "colab": {
          "base_uri": "https://localhost:8080/"
        },
        "id": "opi3yDKerkg5",
        "outputId": "df491491-34d5-482d-8198-a0f621fa6923"
      },
      "source": [
        "from google.colab import drive\n",
        "drive.mount('/content/drive')"
      ],
      "execution_count": 1,
      "outputs": [
        {
          "output_type": "stream",
          "name": "stdout",
          "text": [
            "Mounted at /content/drive\n"
          ]
        }
      ]
    },
    {
      "cell_type": "code",
      "metadata": {
        "id": "x_nEKOw7y8j8",
        "colab": {
          "base_uri": "https://localhost:8080/"
        },
        "outputId": "63db7b44-7756-42c3-b31d-e2dfa6570d33"
      },
      "source": [
        "# DATA_PATH = \"경로를 입력하시기를 바랍니다.\"\n",
        "\n",
        "# 필자의 경로는 다음과 같았습니다. \n",
        "DATA_PATH = '/content/drive/MyDrive/Colab Notebooks/11-01 phy/PART_I_Intro/data/'\n",
        "lemonade = pd.read_csv(DATA_PATH + 'Lemonade2016.csv')\n",
        "lemonade.info()"
      ],
      "execution_count": 8,
      "outputs": [
        {
          "output_type": "stream",
          "name": "stdout",
          "text": [
            "<class 'pandas.core.frame.DataFrame'>\n",
            "RangeIndex: 32 entries, 0 to 31\n",
            "Data columns (total 7 columns):\n",
            " #   Column       Non-Null Count  Dtype  \n",
            "---  ------       --------------  -----  \n",
            " 0   Date         31 non-null     object \n",
            " 1   Location     32 non-null     object \n",
            " 2   Lemon        32 non-null     int64  \n",
            " 3   Orange       32 non-null     int64  \n",
            " 4   Temperature  32 non-null     int64  \n",
            " 5   Leaflets     31 non-null     float64\n",
            " 6   Price        32 non-null     float64\n",
            "dtypes: float64(2), int64(3), object(2)\n",
            "memory usage: 1.9+ KB\n"
          ]
        }
      ]
    },
    {
      "cell_type": "markdown",
      "metadata": {
        "id": "dYrHrpRFZwU6"
      },
      "source": [
        "## 데이터 둘러보기"
      ]
    },
    {
      "cell_type": "code",
      "metadata": {
        "colab": {
          "base_uri": "https://localhost:8080/",
          "height": 195
        },
        "id": "CFdaGMsDYtwA",
        "outputId": "3a456049-7f67-40a5-c14a-f3a2eede3ced"
      },
      "source": [
        "lemonade.head(5)"
      ],
      "execution_count": null,
      "outputs": [
        {
          "output_type": "execute_result",
          "data": {
            "text/html": [
              "<div>\n",
              "<style scoped>\n",
              "    .dataframe tbody tr th:only-of-type {\n",
              "        vertical-align: middle;\n",
              "    }\n",
              "\n",
              "    .dataframe tbody tr th {\n",
              "        vertical-align: top;\n",
              "    }\n",
              "\n",
              "    .dataframe thead th {\n",
              "        text-align: right;\n",
              "    }\n",
              "</style>\n",
              "<table border=\"1\" class=\"dataframe\">\n",
              "  <thead>\n",
              "    <tr style=\"text-align: right;\">\n",
              "      <th></th>\n",
              "      <th>Date</th>\n",
              "      <th>Location</th>\n",
              "      <th>Lemon</th>\n",
              "      <th>Orange</th>\n",
              "      <th>Temperature</th>\n",
              "      <th>Leaflets</th>\n",
              "      <th>Price</th>\n",
              "    </tr>\n",
              "  </thead>\n",
              "  <tbody>\n",
              "    <tr>\n",
              "      <th>0</th>\n",
              "      <td>7/1/2016</td>\n",
              "      <td>Park</td>\n",
              "      <td>97</td>\n",
              "      <td>67</td>\n",
              "      <td>70</td>\n",
              "      <td>90.0</td>\n",
              "      <td>0.25</td>\n",
              "    </tr>\n",
              "    <tr>\n",
              "      <th>1</th>\n",
              "      <td>7/2/2016</td>\n",
              "      <td>Park</td>\n",
              "      <td>98</td>\n",
              "      <td>67</td>\n",
              "      <td>72</td>\n",
              "      <td>90.0</td>\n",
              "      <td>0.25</td>\n",
              "    </tr>\n",
              "    <tr>\n",
              "      <th>2</th>\n",
              "      <td>7/3/2016</td>\n",
              "      <td>Park</td>\n",
              "      <td>110</td>\n",
              "      <td>77</td>\n",
              "      <td>71</td>\n",
              "      <td>104.0</td>\n",
              "      <td>0.25</td>\n",
              "    </tr>\n",
              "    <tr>\n",
              "      <th>3</th>\n",
              "      <td>7/4/2016</td>\n",
              "      <td>Beach</td>\n",
              "      <td>134</td>\n",
              "      <td>99</td>\n",
              "      <td>76</td>\n",
              "      <td>98.0</td>\n",
              "      <td>0.25</td>\n",
              "    </tr>\n",
              "    <tr>\n",
              "      <th>4</th>\n",
              "      <td>7/5/2016</td>\n",
              "      <td>Beach</td>\n",
              "      <td>159</td>\n",
              "      <td>118</td>\n",
              "      <td>78</td>\n",
              "      <td>135.0</td>\n",
              "      <td>0.25</td>\n",
              "    </tr>\n",
              "  </tbody>\n",
              "</table>\n",
              "</div>"
            ],
            "text/plain": [
              "       Date Location  Lemon  Orange  Temperature  Leaflets  Price\n",
              "0  7/1/2016     Park     97      67           70      90.0   0.25\n",
              "1  7/2/2016     Park     98      67           72      90.0   0.25\n",
              "2  7/3/2016     Park    110      77           71     104.0   0.25\n",
              "3  7/4/2016    Beach    134      99           76      98.0   0.25\n",
              "4  7/5/2016    Beach    159     118           78     135.0   0.25"
            ]
          },
          "metadata": {
            "tags": []
          },
          "execution_count": 5
        }
      ]
    },
    {
      "cell_type": "code",
      "metadata": {
        "colab": {
          "base_uri": "https://localhost:8080/",
          "height": 136
        },
        "id": "bIoVqRFhZmbZ",
        "outputId": "e1a90776-8cfc-420d-af71-a3db1fec8994"
      },
      "source": [
        "lemonade.tail(3)"
      ],
      "execution_count": null,
      "outputs": [
        {
          "output_type": "execute_result",
          "data": {
            "text/html": [
              "<div>\n",
              "<style scoped>\n",
              "    .dataframe tbody tr th:only-of-type {\n",
              "        vertical-align: middle;\n",
              "    }\n",
              "\n",
              "    .dataframe tbody tr th {\n",
              "        vertical-align: top;\n",
              "    }\n",
              "\n",
              "    .dataframe thead th {\n",
              "        text-align: right;\n",
              "    }\n",
              "</style>\n",
              "<table border=\"1\" class=\"dataframe\">\n",
              "  <thead>\n",
              "    <tr style=\"text-align: right;\">\n",
              "      <th></th>\n",
              "      <th>Date</th>\n",
              "      <th>Location</th>\n",
              "      <th>Lemon</th>\n",
              "      <th>Orange</th>\n",
              "      <th>Temperature</th>\n",
              "      <th>Leaflets</th>\n",
              "      <th>Price</th>\n",
              "    </tr>\n",
              "  </thead>\n",
              "  <tbody>\n",
              "    <tr>\n",
              "      <th>29</th>\n",
              "      <td>7/29/2016</td>\n",
              "      <td>Park</td>\n",
              "      <td>100</td>\n",
              "      <td>66</td>\n",
              "      <td>81</td>\n",
              "      <td>95.0</td>\n",
              "      <td>0.35</td>\n",
              "    </tr>\n",
              "    <tr>\n",
              "      <th>30</th>\n",
              "      <td>7/30/2016</td>\n",
              "      <td>Beach</td>\n",
              "      <td>88</td>\n",
              "      <td>57</td>\n",
              "      <td>82</td>\n",
              "      <td>81.0</td>\n",
              "      <td>0.35</td>\n",
              "    </tr>\n",
              "    <tr>\n",
              "      <th>31</th>\n",
              "      <td>7/31/2016</td>\n",
              "      <td>Beach</td>\n",
              "      <td>76</td>\n",
              "      <td>47</td>\n",
              "      <td>82</td>\n",
              "      <td>68.0</td>\n",
              "      <td>0.35</td>\n",
              "    </tr>\n",
              "  </tbody>\n",
              "</table>\n",
              "</div>"
            ],
            "text/plain": [
              "         Date Location  Lemon  Orange  Temperature  Leaflets  Price\n",
              "29  7/29/2016     Park    100      66           81      95.0   0.35\n",
              "30  7/30/2016    Beach     88      57           82      81.0   0.35\n",
              "31  7/31/2016    Beach     76      47           82      68.0   0.35"
            ]
          },
          "metadata": {
            "tags": []
          },
          "execution_count": 6
        }
      ]
    },
    {
      "cell_type": "code",
      "metadata": {
        "colab": {
          "base_uri": "https://localhost:8080/"
        },
        "id": "K5Uqf-3ga3e_",
        "outputId": "fa84caba-2fae-400d-ae7f-2645e265b44b"
      },
      "source": [
        "print(lemonade.info())"
      ],
      "execution_count": null,
      "outputs": [
        {
          "output_type": "stream",
          "text": [
            "<class 'pandas.core.frame.DataFrame'>\n",
            "RangeIndex: 32 entries, 0 to 31\n",
            "Data columns (total 7 columns):\n",
            " #   Column       Non-Null Count  Dtype  \n",
            "---  ------       --------------  -----  \n",
            " 0   Date         31 non-null     object \n",
            " 1   Location     32 non-null     object \n",
            " 2   Lemon        32 non-null     int64  \n",
            " 3   Orange       32 non-null     int64  \n",
            " 4   Temperature  32 non-null     int64  \n",
            " 5   Leaflets     31 non-null     float64\n",
            " 6   Price        32 non-null     float64\n",
            "dtypes: float64(2), int64(3), object(2)\n",
            "memory usage: 1.9+ KB\n",
            "None\n"
          ],
          "name": "stdout"
        }
      ]
    },
    {
      "cell_type": "code",
      "metadata": {
        "colab": {
          "base_uri": "https://localhost:8080/",
          "height": 284
        },
        "id": "ItD0-doGdL7Y",
        "outputId": "27ece2b0-572e-4d78-a693-b1a2df363abd"
      },
      "source": [
        "lemonade.describe()"
      ],
      "execution_count": null,
      "outputs": [
        {
          "output_type": "execute_result",
          "data": {
            "text/html": [
              "<div>\n",
              "<style scoped>\n",
              "    .dataframe tbody tr th:only-of-type {\n",
              "        vertical-align: middle;\n",
              "    }\n",
              "\n",
              "    .dataframe tbody tr th {\n",
              "        vertical-align: top;\n",
              "    }\n",
              "\n",
              "    .dataframe thead th {\n",
              "        text-align: right;\n",
              "    }\n",
              "</style>\n",
              "<table border=\"1\" class=\"dataframe\">\n",
              "  <thead>\n",
              "    <tr style=\"text-align: right;\">\n",
              "      <th></th>\n",
              "      <th>Lemon</th>\n",
              "      <th>Orange</th>\n",
              "      <th>Temperature</th>\n",
              "      <th>Leaflets</th>\n",
              "      <th>Price</th>\n",
              "    </tr>\n",
              "  </thead>\n",
              "  <tbody>\n",
              "    <tr>\n",
              "      <th>count</th>\n",
              "      <td>32.000000</td>\n",
              "      <td>32.000000</td>\n",
              "      <td>32.000000</td>\n",
              "      <td>31.000000</td>\n",
              "      <td>32.000000</td>\n",
              "    </tr>\n",
              "    <tr>\n",
              "      <th>mean</th>\n",
              "      <td>116.156250</td>\n",
              "      <td>80.000000</td>\n",
              "      <td>78.968750</td>\n",
              "      <td>108.548387</td>\n",
              "      <td>0.354687</td>\n",
              "    </tr>\n",
              "    <tr>\n",
              "      <th>std</th>\n",
              "      <td>25.823357</td>\n",
              "      <td>21.863211</td>\n",
              "      <td>4.067847</td>\n",
              "      <td>20.117718</td>\n",
              "      <td>0.113137</td>\n",
              "    </tr>\n",
              "    <tr>\n",
              "      <th>min</th>\n",
              "      <td>71.000000</td>\n",
              "      <td>42.000000</td>\n",
              "      <td>70.000000</td>\n",
              "      <td>68.000000</td>\n",
              "      <td>0.250000</td>\n",
              "    </tr>\n",
              "    <tr>\n",
              "      <th>25%</th>\n",
              "      <td>98.000000</td>\n",
              "      <td>66.750000</td>\n",
              "      <td>77.000000</td>\n",
              "      <td>90.000000</td>\n",
              "      <td>0.250000</td>\n",
              "    </tr>\n",
              "    <tr>\n",
              "      <th>50%</th>\n",
              "      <td>113.500000</td>\n",
              "      <td>76.500000</td>\n",
              "      <td>80.500000</td>\n",
              "      <td>108.000000</td>\n",
              "      <td>0.350000</td>\n",
              "    </tr>\n",
              "    <tr>\n",
              "      <th>75%</th>\n",
              "      <td>131.750000</td>\n",
              "      <td>95.000000</td>\n",
              "      <td>82.000000</td>\n",
              "      <td>124.000000</td>\n",
              "      <td>0.500000</td>\n",
              "    </tr>\n",
              "    <tr>\n",
              "      <th>max</th>\n",
              "      <td>176.000000</td>\n",
              "      <td>129.000000</td>\n",
              "      <td>84.000000</td>\n",
              "      <td>158.000000</td>\n",
              "      <td>0.500000</td>\n",
              "    </tr>\n",
              "  </tbody>\n",
              "</table>\n",
              "</div>"
            ],
            "text/plain": [
              "            Lemon      Orange  Temperature    Leaflets      Price\n",
              "count   32.000000   32.000000    32.000000   31.000000  32.000000\n",
              "mean   116.156250   80.000000    78.968750  108.548387   0.354687\n",
              "std     25.823357   21.863211     4.067847   20.117718   0.113137\n",
              "min     71.000000   42.000000    70.000000   68.000000   0.250000\n",
              "25%     98.000000   66.750000    77.000000   90.000000   0.250000\n",
              "50%    113.500000   76.500000    80.500000  108.000000   0.350000\n",
              "75%    131.750000   95.000000    82.000000  124.000000   0.500000\n",
              "max    176.000000  129.000000    84.000000  158.000000   0.500000"
            ]
          },
          "metadata": {
            "tags": []
          },
          "execution_count": 8
        }
      ]
    },
    {
      "cell_type": "code",
      "metadata": {
        "colab": {
          "base_uri": "https://localhost:8080/"
        },
        "id": "8mUBcwowhpvD",
        "outputId": "63075edd-046e-4764-d574-d47a360ad9f3"
      },
      "source": [
        "lemonade['Location'].value_counts()"
      ],
      "execution_count": null,
      "outputs": [
        {
          "output_type": "execute_result",
          "data": {
            "text/plain": [
              "Beach    17\n",
              "Park     15\n",
              "Name: Location, dtype: int64"
            ]
          },
          "metadata": {
            "tags": []
          },
          "execution_count": 9
        }
      ]
    },
    {
      "cell_type": "markdown",
      "metadata": {
        "id": "OILzAetathl4"
      },
      "source": [
        "## 데이터 다뤄보기"
      ]
    },
    {
      "cell_type": "code",
      "metadata": {
        "colab": {
          "base_uri": "https://localhost:8080/"
        },
        "id": "I2TlXr3Otgod",
        "outputId": "3de890f7-dc84-4265-b6e2-0a4dbe643d04"
      },
      "source": [
        "lemonade['Sold'] = 0 \n",
        "print(lemonade.head(3))"
      ],
      "execution_count": null,
      "outputs": [
        {
          "output_type": "stream",
          "text": [
            "       Date Location  Lemon  Orange  Temperature  Leaflets  Price  Sold\n",
            "0  7/1/2016     Park     97      67           70      90.0   0.25     0\n",
            "1  7/2/2016     Park     98      67           72      90.0   0.25     0\n",
            "2  7/3/2016     Park    110      77           71     104.0   0.25     0\n"
          ],
          "name": "stdout"
        }
      ]
    },
    {
      "cell_type": "code",
      "metadata": {
        "colab": {
          "base_uri": "https://localhost:8080/"
        },
        "id": "8-48wz7Xu_ub",
        "outputId": "12a922e9-4b06-4572-e3c4-8829dfcd123e"
      },
      "source": [
        "lemonade['Sold'] = lemonade['Lemon'] + lemonade['Orange']\n",
        "print(lemonade.head(3))"
      ],
      "execution_count": null,
      "outputs": [
        {
          "output_type": "stream",
          "text": [
            "       Date Location  Lemon  Orange  Temperature  Leaflets  Price  Sold\n",
            "0  7/1/2016     Park     97      67           70      90.0   0.25   164\n",
            "1  7/2/2016     Park     98      67           72      90.0   0.25   165\n",
            "2  7/3/2016     Park    110      77           71     104.0   0.25   187\n"
          ],
          "name": "stdout"
        }
      ]
    },
    {
      "cell_type": "code",
      "metadata": {
        "colab": {
          "base_uri": "https://localhost:8080/"
        },
        "id": "58hG7IchyyRm",
        "outputId": "fd487663-17c9-4a80-d8b2-6693147a0601"
      },
      "source": [
        "lemonade['Revenue'] = lemonade['Price'] * lemonade['Sold']\n",
        "print(lemonade.head(3))"
      ],
      "execution_count": null,
      "outputs": [
        {
          "output_type": "stream",
          "text": [
            "       Date Location  Lemon  Orange  ...  Leaflets  Price  Sold  Revenue\n",
            "0  7/1/2016     Park     97      67  ...      90.0   0.25   164    41.00\n",
            "1  7/2/2016     Park     98      67  ...      90.0   0.25   165    41.25\n",
            "2  7/3/2016     Park    110      77  ...     104.0   0.25   187    46.75\n",
            "\n",
            "[3 rows x 9 columns]\n"
          ],
          "name": "stdout"
        }
      ]
    },
    {
      "cell_type": "code",
      "metadata": {
        "colab": {
          "base_uri": "https://localhost:8080/"
        },
        "id": "05I8EU5H0Mlk",
        "outputId": "54729e59-b80f-45cf-b0cd-03108b38d1c1"
      },
      "source": [
        "pd.set_option('display.max_columns', None)\n",
        "\n",
        "lemonade['Revenue'] = lemonade['Price'] * lemonade['Sold']\n",
        "print(lemonade.head(3))"
      ],
      "execution_count": null,
      "outputs": [
        {
          "output_type": "stream",
          "text": [
            "       Date Location  Lemon  Orange  Temperature  Leaflets  Price  Sold  \\\n",
            "0  7/1/2016     Park     97      67           70      90.0   0.25   164   \n",
            "1  7/2/2016     Park     98      67           72      90.0   0.25   165   \n",
            "2  7/3/2016     Park    110      77           71     104.0   0.25   187   \n",
            "\n",
            "   Revenue  \n",
            "0    41.00  \n",
            "1    41.25  \n",
            "2    46.75  \n"
          ],
          "name": "stdout"
        }
      ]
    },
    {
      "cell_type": "code",
      "metadata": {
        "colab": {
          "base_uri": "https://localhost:8080/"
        },
        "id": "j8QvGkpC8bzc",
        "outputId": "e3338f9f-bb0a-4a95-f0d0-90b47c2bcc9f"
      },
      "source": [
        "pd.set_option('display.max_columns', 0)\n",
        "\n",
        "lemonade['Revenue'] = lemonade['Price'] * lemonade['Sold']\n",
        "print(lemonade.head(3))"
      ],
      "execution_count": null,
      "outputs": [
        {
          "output_type": "stream",
          "text": [
            "       Date Location  Lemon  Orange  ...  Leaflets  Price  Sold  Revenue\n",
            "0  7/1/2016     Park     97      67  ...      90.0   0.25   164    41.00\n",
            "1  7/2/2016     Park     98      67  ...      90.0   0.25   165    41.25\n",
            "2  7/3/2016     Park    110      77  ...     104.0   0.25   187    46.75\n",
            "\n",
            "[3 rows x 9 columns]\n"
          ],
          "name": "stdout"
        }
      ]
    },
    {
      "cell_type": "code",
      "metadata": {
        "colab": {
          "base_uri": "https://localhost:8080/"
        },
        "id": "Rq-uVtyCEOUp",
        "outputId": "1a6c79fe-8fcc-4245-ae33-a8dffcae9bcf"
      },
      "source": [
        "lemonade_column_drop = lemonade.drop('Sold', axis=1)\n",
        "print(lemonade_column_drop.head(3))"
      ],
      "execution_count": null,
      "outputs": [
        {
          "output_type": "stream",
          "text": [
            "       Date Location  Lemon  Orange  Temperature  Leaflets  Price  Revenue\n",
            "0  7/1/2016     Park     97      67           70      90.0   0.25    41.00\n",
            "1  7/2/2016     Park     98      67           72      90.0   0.25    41.25\n",
            "2  7/3/2016     Park    110      77           71     104.0   0.25    46.75\n"
          ],
          "name": "stdout"
        }
      ]
    },
    {
      "cell_type": "code",
      "metadata": {
        "colab": {
          "base_uri": "https://localhost:8080/"
        },
        "id": "5PEgTo-HFMrU",
        "outputId": "97a64dcb-5aef-49ab-afb2-fbec54d49443"
      },
      "source": [
        "lemonade_row_drop = lemonade_column_drop.drop(0, axis=0)\n",
        "print(lemonade_row_drop.head(3))"
      ],
      "execution_count": null,
      "outputs": [
        {
          "output_type": "stream",
          "text": [
            "       Date Location  Lemon  Orange  Temperature  Leaflets  Price  Revenue\n",
            "1  7/2/2016     Park     98      67           72      90.0   0.25    41.25\n",
            "2  7/3/2016     Park    110      77           71     104.0   0.25    46.75\n",
            "3  7/4/2016    Beach    134      99           76      98.0   0.25    58.25\n"
          ],
          "name": "stdout"
        }
      ]
    },
    {
      "cell_type": "markdown",
      "metadata": {
        "id": "CN277bNHer4j"
      },
      "source": [
        "## 데이터 인덱싱\n"
      ]
    },
    {
      "cell_type": "code",
      "metadata": {
        "colab": {
          "base_uri": "https://localhost:8080/"
        },
        "id": "V9-67MIWezY9",
        "outputId": "5afefcd2-1270-4c5a-ae03-9d717843e689"
      },
      "source": [
        "print(lemonade[0:5])"
      ],
      "execution_count": null,
      "outputs": [
        {
          "output_type": "stream",
          "text": [
            "       Date Location  Lemon  Orange  ...  Leaflets  Price  Sold  Revenue\n",
            "0  7/1/2016     Park     97      67  ...      90.0   0.25   164    41.00\n",
            "1  7/2/2016     Park     98      67  ...      90.0   0.25   165    41.25\n",
            "2  7/3/2016     Park    110      77  ...     104.0   0.25   187    46.75\n",
            "3  7/4/2016    Beach    134      99  ...      98.0   0.25   233    58.25\n",
            "4  7/5/2016    Beach    159     118  ...     135.0   0.25   277    69.25\n",
            "\n",
            "[5 rows x 9 columns]\n"
          ],
          "name": "stdout"
        }
      ]
    },
    {
      "cell_type": "code",
      "metadata": {
        "colab": {
          "base_uri": "https://localhost:8080/"
        },
        "id": "xXw0XjJwoidZ",
        "outputId": "4911f137-c237-45f7-e818-1db9c171c64f"
      },
      "source": [
        "lemonade['Location'] == 'Beach'"
      ],
      "execution_count": null,
      "outputs": [
        {
          "output_type": "execute_result",
          "data": {
            "text/plain": [
              "0     False\n",
              "1     False\n",
              "2     False\n",
              "3      True\n",
              "4      True\n",
              "5      True\n",
              "6      True\n",
              "7      True\n",
              "8      True\n",
              "9      True\n",
              "10     True\n",
              "11     True\n",
              "12     True\n",
              "13     True\n",
              "14     True\n",
              "15     True\n",
              "16     True\n",
              "17     True\n",
              "18    False\n",
              "19    False\n",
              "20    False\n",
              "21    False\n",
              "22    False\n",
              "23    False\n",
              "24    False\n",
              "25    False\n",
              "26    False\n",
              "27    False\n",
              "28    False\n",
              "29    False\n",
              "30     True\n",
              "31     True\n",
              "Name: Location, dtype: bool"
            ]
          },
          "metadata": {
            "tags": []
          },
          "execution_count": 19
        }
      ]
    },
    {
      "cell_type": "code",
      "metadata": {
        "colab": {
          "base_uri": "https://localhost:8080/"
        },
        "id": "SVsV88Erl0r9",
        "outputId": "e53e4eba-1b1f-4408-feb1-565a09ba1bed"
      },
      "source": [
        "print(lemonade[lemonade['Location'] == 'Beach'].head(3))"
      ],
      "execution_count": null,
      "outputs": [
        {
          "output_type": "stream",
          "text": [
            "       Date Location  Lemon  Orange  ...  Leaflets  Price  Sold  Revenue\n",
            "3  7/4/2016    Beach    134      99  ...      98.0   0.25   233    58.25\n",
            "4  7/5/2016    Beach    159     118  ...     135.0   0.25   277    69.25\n",
            "5  7/6/2016    Beach    103      69  ...      90.0   0.25   172    43.00\n",
            "\n",
            "[3 rows x 9 columns]\n"
          ],
          "name": "stdout"
        }
      ]
    },
    {
      "cell_type": "code",
      "metadata": {
        "colab": {
          "base_uri": "https://localhost:8080/"
        },
        "id": "3UIJRP92mMBl",
        "outputId": "514a550c-ba2a-4e43-931a-9bd1683493bb"
      },
      "source": [
        "print(lemonade.iloc[0:3, 0:2])"
      ],
      "execution_count": null,
      "outputs": [
        {
          "output_type": "stream",
          "text": [
            "       Date Location\n",
            "0  7/1/2016     Park\n",
            "1  7/2/2016     Park\n",
            "2  7/3/2016     Park\n"
          ],
          "name": "stdout"
        }
      ]
    },
    {
      "cell_type": "code",
      "metadata": {
        "colab": {
          "base_uri": "https://localhost:8080/"
        },
        "id": "Cf5NTNPutwx3",
        "outputId": "ed477dde-4c39-40d3-cea6-872069b3de5b"
      },
      "source": [
        "print(lemonade.loc[0:2, ['Date','Location']])"
      ],
      "execution_count": null,
      "outputs": [
        {
          "output_type": "stream",
          "text": [
            "       Date Location\n",
            "0  7/1/2016     Park\n",
            "1  7/2/2016     Park\n",
            "2  7/3/2016     Park\n"
          ],
          "name": "stdout"
        }
      ]
    },
    {
      "cell_type": "code",
      "metadata": {
        "colab": {
          "base_uri": "https://localhost:8080/"
        },
        "id": "o3srXoGrwJHC",
        "outputId": "5c35b8bf-f655-4f77-b6b5-630189fa85ce"
      },
      "source": [
        "print(lemonade.loc[lemonade['Revenue']>45, ['Date','Revenue']].head(3))"
      ],
      "execution_count": null,
      "outputs": [
        {
          "output_type": "stream",
          "text": [
            "       Date  Revenue\n",
            "2  7/3/2016    46.75\n",
            "3  7/4/2016    58.25\n",
            "4  7/5/2016    69.25\n"
          ],
          "name": "stdout"
        }
      ]
    },
    {
      "cell_type": "markdown",
      "metadata": {
        "id": "TZVVffqD29mR"
      },
      "source": [
        "## 기본 데이터 전처리"
      ]
    },
    {
      "cell_type": "code",
      "metadata": {
        "colab": {
          "base_uri": "https://localhost:8080/"
        },
        "id": "2DLCKMgP2_Cr",
        "outputId": "3f98deb5-16be-4144-e482-dc42f052f27b"
      },
      "source": [
        "print(lemonade.sort_values(by=['Temperature']).head(5))"
      ],
      "execution_count": null,
      "outputs": [
        {
          "output_type": "stream",
          "text": [
            "         Date Location  Lemon  Orange  ...  Leaflets  Price  Sold  Revenue\n",
            "0    7/1/2016     Park     97      67  ...      90.0   0.25   164    41.00\n",
            "20  7/20/2016     Park     71      42  ...       NaN   0.50   113    56.50\n",
            "2    7/3/2016     Park    110      77  ...     104.0   0.25   187    46.75\n",
            "1    7/2/2016     Park     98      67  ...      90.0   0.25   165    41.25\n",
            "16  7/16/2016    Beach     81      50  ...      90.0   0.50   131    65.50\n",
            "\n",
            "[5 rows x 9 columns]\n"
          ],
          "name": "stdout"
        }
      ]
    },
    {
      "cell_type": "code",
      "metadata": {
        "colab": {
          "base_uri": "https://localhost:8080/"
        },
        "id": "m6TTwFWP380i",
        "outputId": "e906de2d-097f-4e90-935e-1433da8348d3"
      },
      "source": [
        "lemonade.sort_values(by=['Temperature', 'Revenue'], ascending= False, inplace = True)\n",
        "print(lemonade.loc[:,['Date','Temperature', 'Revenue']].head(5))"
      ],
      "execution_count": null,
      "outputs": [
        {
          "output_type": "stream",
          "text": [
            "         Date  Temperature  Revenue\n",
            "25  7/25/2016           84   134.50\n",
            "12  7/12/2016           84    56.25\n",
            "26  7/26/2016           83   106.75\n",
            "11  7/11/2016           83    70.50\n",
            "24  7/24/2016           82   101.50\n"
          ],
          "name": "stdout"
        }
      ]
    },
    {
      "cell_type": "code",
      "metadata": {
        "colab": {
          "base_uri": "https://localhost:8080/"
        },
        "id": "7dppmyor4Uvs",
        "outputId": "00c145f1-3116-4dab-efc7-0895bcc9b2f0"
      },
      "source": [
        "print(lemonade.groupby(by='Location').count())"
      ],
      "execution_count": null,
      "outputs": [
        {
          "output_type": "stream",
          "text": [
            "          Date  Lemon  Orange  Temperature  Leaflets  Price  Sold  Revenue\n",
            "Location                                                                  \n",
            "Beach       16     17      17           17        17     17    17       17\n",
            "Park        15     15      15           15        14     15    15       15\n"
          ],
          "name": "stdout"
        }
      ]
    },
    {
      "cell_type": "code",
      "metadata": {
        "colab": {
          "base_uri": "https://localhost:8080/"
        },
        "id": "rfsRC7Te5kZz",
        "outputId": "4bb96211-702c-4cfc-a773-ea660a451144"
      },
      "source": [
        "print(lemonade.groupby('Location')['Revenue'].agg([max,min]))"
      ],
      "execution_count": null,
      "outputs": [
        {
          "output_type": "stream",
          "text": [
            "            max   min\n",
            "Location             \n",
            "Beach      95.5  43.0\n",
            "Park      134.5  41.0\n"
          ],
          "name": "stdout"
        }
      ]
    },
    {
      "cell_type": "code",
      "metadata": {
        "colab": {
          "base_uri": "https://localhost:8080/"
        },
        "id": "iE_hTev56l_5",
        "outputId": "3821c986-247d-4e97-e9c7-3351b2488650"
      },
      "source": [
        "print(lemonade.groupby('Location')[['Revenue', 'Sold']].agg([max,min]))"
      ],
      "execution_count": null,
      "outputs": [
        {
          "output_type": "stream",
          "text": [
            "         Revenue       Sold     \n",
            "             max   min  max  min\n",
            "Location                        \n",
            "Beach       95.5  43.0  282  123\n",
            "Park       134.5  41.0  305  113\n"
          ],
          "name": "stdout"
        }
      ]
    }
  ]
}