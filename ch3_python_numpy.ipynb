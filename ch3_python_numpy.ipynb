{
  "nbformat": 4,
  "nbformat_minor": 0,
  "metadata": {
    "colab": {
      "name": "ch3_python_numpy.ipynb",
      "provenance": [],
      "toc_visible": true,
      "include_colab_link": true
    },
    "kernelspec": {
      "name": "python3",
      "display_name": "Python 3"
    }
  },
  "cells": [
    {
      "cell_type": "markdown",
      "metadata": {
        "id": "view-in-github",
        "colab_type": "text"
      },
      "source": [
        "<a href=\"https://colab.research.google.com/github/kwondogeun/green/blob/main/ch3_python_numpy.ipynb\" target=\"_parent\"><img src=\"https://colab.research.google.com/assets/colab-badge.svg\" alt=\"Open In Colab\"/></a>"
      ]
    },
    {
      "cell_type": "markdown",
      "metadata": {
        "id": "ehOsyzEsEWsH"
      },
      "source": [
        "## 라이브러리 불러오기"
      ]
    },
    {
      "cell_type": "code",
      "metadata": {
        "id": "iV9sIG-2DiXX",
        "colab": {
          "base_uri": "https://localhost:8080/"
        },
        "outputId": "c658bb7d-26e1-48ee-851c-1998e21422bc"
      },
      "source": [
        "import numpy as np\n",
        "print(np.__version__)"
      ],
      "execution_count": 2,
      "outputs": [
        {
          "output_type": "stream",
          "name": "stdout",
          "text": [
            "1.19.5\n"
          ]
        }
      ]
    },
    {
      "cell_type": "code",
      "metadata": {
        "colab": {
          "base_uri": "https://localhost:8080/"
        },
        "id": "Qi7yHn-UaAA_",
        "outputId": "e6f45dc5-8c0c-4fe3-b590-deaa19887515"
      },
      "source": [
        "temp = np.array([1, 2, 3])\n",
        "print(type(temp))"
      ],
      "execution_count": 3,
      "outputs": [
        {
          "output_type": "stream",
          "name": "stdout",
          "text": [
            "<class 'numpy.ndarray'>\n"
          ]
        }
      ]
    },
    {
      "cell_type": "markdown",
      "metadata": {
        "id": "RTXv7U1qEZJQ"
      },
      "source": [
        "## Numpy 배열 생성 및 둘러보기"
      ]
    },
    {
      "cell_type": "code",
      "metadata": {
        "colab": {
          "base_uri": "https://localhost:8080/"
        },
        "id": "B3aipalvES8N",
        "outputId": "f2c20197-9b8b-4573-c657-7be11f6f435d"
      },
      "source": [
        "data1 = [1,2,3]\n",
        "data1"
      ],
      "execution_count": null,
      "outputs": [
        {
          "output_type": "execute_result",
          "data": {
            "text/plain": [
              "[1, 2, 3]"
            ]
          },
          "metadata": {
            "tags": []
          },
          "execution_count": 5
        }
      ]
    },
    {
      "cell_type": "code",
      "metadata": {
        "id": "60t9yRzaEelO",
        "colab": {
          "base_uri": "https://localhost:8080/"
        },
        "outputId": "909c55ba-e8a0-4ef3-a292-a044814300ca"
      },
      "source": [
        "data2= [1,1,2,2,3,4]\n",
        "data2"
      ],
      "execution_count": null,
      "outputs": [
        {
          "output_type": "execute_result",
          "data": {
            "text/plain": [
              "[1, 1, 2, 2, 3, 4]"
            ]
          },
          "metadata": {
            "tags": []
          },
          "execution_count": 6
        }
      ]
    },
    {
      "cell_type": "code",
      "metadata": {
        "colab": {
          "base_uri": "https://localhost:8080/"
        },
        "id": "zFZU-ntoj6bK",
        "outputId": "996a9508-1cb2-42a1-8a26-69ffa3942da9"
      },
      "source": [
        "my_array1 = np.array(data1)\n",
        "print(my_array1) \n",
        "print(my_array1.shape)"
      ],
      "execution_count": null,
      "outputs": [
        {
          "output_type": "stream",
          "text": [
            "[1 2 3]\n",
            "(3,)\n"
          ],
          "name": "stdout"
        }
      ]
    },
    {
      "cell_type": "code",
      "metadata": {
        "colab": {
          "base_uri": "https://localhost:8080/"
        },
        "id": "DdjaJA19j76J",
        "outputId": "1572ca7f-d507-49b8-a9f9-8cd6642890ee"
      },
      "source": [
        "my_array2 = np.array(data2)\n",
        "print(my_array2) \n",
        "print(my_array2.shape)"
      ],
      "execution_count": null,
      "outputs": [
        {
          "output_type": "stream",
          "text": [
            "[1 1 2 2 3 4]\n",
            "(6,)\n"
          ],
          "name": "stdout"
        }
      ]
    },
    {
      "cell_type": "code",
      "metadata": {
        "colab": {
          "base_uri": "https://localhost:8080/"
        },
        "id": "6wjrAqSXj9hb",
        "outputId": "e1b46015-ac9a-4129-a1b8-47ea42b919d5"
      },
      "source": [
        "my_array3 = np.array([3,6,9,12])\n",
        "print(my_array3)\n",
        "print(my_array3.shape)\n",
        "print(my_array3.dtype)"
      ],
      "execution_count": null,
      "outputs": [
        {
          "output_type": "stream",
          "text": [
            "[ 3  6  9 12]\n",
            "(4,)\n",
            "int64\n"
          ],
          "name": "stdout"
        }
      ]
    },
    {
      "cell_type": "code",
      "metadata": {
        "colab": {
          "base_uri": "https://localhost:8080/"
        },
        "id": "FXFI9nd2j_W-",
        "outputId": "6d94902b-a5ff-4751-b402-7557a3df40ff"
      },
      "source": [
        "my_array4 = np.array([[2,4,6],[8,10,12],[14,16,18],[20,22,24]])\n",
        "my_array4"
      ],
      "execution_count": null,
      "outputs": [
        {
          "output_type": "execute_result",
          "data": {
            "text/plain": [
              "array([[ 2,  4,  6],\n",
              "       [ 8, 10, 12],\n",
              "       [14, 16, 18],\n",
              "       [20, 22, 24]])"
            ]
          },
          "metadata": {
            "tags": []
          },
          "execution_count": 10
        }
      ]
    },
    {
      "cell_type": "code",
      "metadata": {
        "colab": {
          "base_uri": "https://localhost:8080/"
        },
        "id": "oKLy3PYVnzrp",
        "outputId": "42208780-b2c2-4f37-a358-d07d4a362ec7"
      },
      "source": [
        "my_array4.shape"
      ],
      "execution_count": null,
      "outputs": [
        {
          "output_type": "execute_result",
          "data": {
            "text/plain": [
              "(4, 3)"
            ]
          },
          "metadata": {
            "tags": []
          },
          "execution_count": 12
        }
      ]
    },
    {
      "cell_type": "code",
      "metadata": {
        "colab": {
          "base_uri": "https://localhost:8080/"
        },
        "id": "CSekAmewnyJp",
        "outputId": "8c6cdd68-053a-4f34-b205-0c64cd1ebce2"
      },
      "source": [
        "my_array5 = np.array([[[1, 2], [3, 4]], [[5, 6], [7, 8]]])\n",
        "my_array5.shape"
      ],
      "execution_count": null,
      "outputs": [
        {
          "output_type": "execute_result",
          "data": {
            "text/plain": [
              "(2, 2, 2)"
            ]
          },
          "metadata": {
            "tags": []
          },
          "execution_count": 17
        }
      ]
    },
    {
      "cell_type": "markdown",
      "metadata": {
        "id": "PoS0isgLoU0G"
      },
      "source": [
        "## Numpy 기본 함수들"
      ]
    },
    {
      "cell_type": "markdown",
      "metadata": {
        "id": "saAXAV8HtyuI"
      },
      "source": [
        "### arange"
      ]
    },
    {
      "cell_type": "code",
      "metadata": {
        "colab": {
          "base_uri": "https://localhost:8080/"
        },
        "id": "4FYuseAGurAy",
        "outputId": "8b828047-0df2-4d7c-a92d-c1ed3bd6e5c1"
      },
      "source": [
        "arrange_array = np.arange(5)\n",
        "arrange_array"
      ],
      "execution_count": null,
      "outputs": [
        {
          "output_type": "execute_result",
          "data": {
            "text/plain": [
              "array([0, 1, 2, 3, 4])"
            ]
          },
          "metadata": {
            "tags": []
          },
          "execution_count": 18
        }
      ]
    },
    {
      "cell_type": "code",
      "metadata": {
        "colab": {
          "base_uri": "https://localhost:8080/"
        },
        "id": "IFOoFkunutWu",
        "outputId": "98261833-46de-449c-abe2-b7def466b1b9"
      },
      "source": [
        "arrange_array2 = np.arange(1, 9, 3)\n",
        "arrange_array2"
      ],
      "execution_count": 4,
      "outputs": [
        {
          "output_type": "execute_result",
          "data": {
            "text/plain": [
              "array([1, 4, 7])"
            ]
          },
          "metadata": {},
          "execution_count": 4
        }
      ]
    },
    {
      "cell_type": "markdown",
      "metadata": {
        "id": "DaYOHA5wwrBM"
      },
      "source": [
        "### zeroes, ones"
      ]
    },
    {
      "cell_type": "code",
      "metadata": {
        "colab": {
          "base_uri": "https://localhost:8080/"
        },
        "id": "_txxsxQ8wrk5",
        "outputId": "5860ecd3-722f-41ef-96be-925df5eac14b"
      },
      "source": [
        "zeros_array = np.zeros((3,2))\n",
        "print(zeros_array)\n",
        "print(\"Data Type is:\", zeros_array.dtype)\n",
        "print(\"Data Shape is:\", zeros_array.shape)"
      ],
      "execution_count": null,
      "outputs": [
        {
          "output_type": "stream",
          "text": [
            "[[0. 0.]\n",
            " [0. 0.]\n",
            " [0. 0.]]\n",
            "Data Type is: float64\n",
            "Data Shape is: (3, 2)\n"
          ],
          "name": "stdout"
        }
      ]
    },
    {
      "cell_type": "code",
      "metadata": {
        "colab": {
          "base_uri": "https://localhost:8080/"
        },
        "id": "ozIR0-fexi9Z",
        "outputId": "18f77e03-2db6-4b6e-a595-ee5e46fd27c2"
      },
      "source": [
        "ones_array = np.ones((3,4), dtype='int32')\n",
        "print(ones_array)\n",
        "print(\"Data Type is:\", ones_array.dtype)\n",
        "print(\"Data Shape is:\", ones_array.shape)"
      ],
      "execution_count": null,
      "outputs": [
        {
          "output_type": "stream",
          "text": [
            "[[1 1 1 1]\n",
            " [1 1 1 1]\n",
            " [1 1 1 1]]\n",
            "Data Type is: int32\n",
            "Data Shape is: (3, 4)\n"
          ],
          "name": "stdout"
        }
      ]
    },
    {
      "cell_type": "markdown",
      "metadata": {
        "id": "P_rbin1jyF0a"
      },
      "source": [
        "### reshape\n"
      ]
    },
    {
      "cell_type": "code",
      "metadata": {
        "colab": {
          "base_uri": "https://localhost:8080/"
        },
        "id": "ynbBuinZ3Ndh",
        "outputId": "b6eff03a-e677-4954-b6e5-3a51f4ed2e20"
      },
      "source": [
        "after_reshape = ones_array.reshape(6,2)\n",
        "print(after_reshape)\n",
        "print(\"Data Shape is:\", after_reshape.shape)"
      ],
      "execution_count": null,
      "outputs": [
        {
          "output_type": "stream",
          "text": [
            "[[1 1]\n",
            " [1 1]\n",
            " [1 1]\n",
            " [1 1]\n",
            " [1 1]\n",
            " [1 1]]\n",
            "Data Shape is: (6, 2)\n"
          ],
          "name": "stdout"
        }
      ]
    },
    {
      "cell_type": "code",
      "metadata": {
        "colab": {
          "base_uri": "https://localhost:8080/",
          "height": 164
        },
        "id": "IXDaUpen3Pvo",
        "outputId": "aa1b6001-b109-4287-eb2a-82353b3a22b2"
      },
      "source": [
        "after_reshape = ones_array.reshape(5,3)"
      ],
      "execution_count": null,
      "outputs": [
        {
          "output_type": "error",
          "ename": "ValueError",
          "evalue": "ignored",
          "traceback": [
            "\u001b[0;31m---------------------------------------------------------------------------\u001b[0m",
            "\u001b[0;31mValueError\u001b[0m                                Traceback (most recent call last)",
            "\u001b[0;32m<ipython-input-25-94cac763be50>\u001b[0m in \u001b[0;36m<module>\u001b[0;34m()\u001b[0m\n\u001b[0;32m----> 1\u001b[0;31m \u001b[0mafter_reshape\u001b[0m \u001b[0;34m=\u001b[0m \u001b[0mones_array\u001b[0m\u001b[0;34m.\u001b[0m\u001b[0mreshape\u001b[0m\u001b[0;34m(\u001b[0m\u001b[0;36m5\u001b[0m\u001b[0;34m,\u001b[0m\u001b[0;36m3\u001b[0m\u001b[0;34m)\u001b[0m\u001b[0;34m\u001b[0m\u001b[0;34m\u001b[0m\u001b[0m\n\u001b[0m",
            "\u001b[0;31mValueError\u001b[0m: cannot reshape array of size 12 into shape (5,3)"
          ]
        }
      ]
    },
    {
      "cell_type": "code",
      "metadata": {
        "colab": {
          "base_uri": "https://localhost:8080/"
        },
        "id": "-meF61WqoQmq",
        "outputId": "4221bfd3-f787-4196-81fd-7e060db81c26"
      },
      "source": [
        "after_reshape = ones_array.reshape(2,3,2)\n",
        "print(after_reshape)\n",
        "print(\"Data Shape is:\", after_reshape.shape)"
      ],
      "execution_count": null,
      "outputs": [
        {
          "output_type": "stream",
          "text": [
            "[[[1 1]\n",
            "  [1 1]\n",
            "  [1 1]]\n",
            "\n",
            " [[1 1]\n",
            "  [1 1]\n",
            "  [1 1]]]\n",
            "Data Shape is: (2, 3, 2)\n"
          ],
          "name": "stdout"
        }
      ]
    },
    {
      "cell_type": "code",
      "metadata": {
        "colab": {
          "base_uri": "https://localhost:8080/"
        },
        "id": "yg6K_TU2o4E1",
        "outputId": "cd3fa572-b0fd-4c03-f51e-6cb14c10ead8"
      },
      "source": [
        "after_reshape2= ones_array.reshape(-1,6)\n",
        "print(\"reshape(-1,6)? \\n\")\n",
        "print(after_reshape2)"
      ],
      "execution_count": null,
      "outputs": [
        {
          "output_type": "stream",
          "text": [
            "reshape(-1,6)? \n",
            "\n",
            "[[1 1 1 1 1 1]\n",
            " [1 1 1 1 1 1]]\n"
          ],
          "name": "stdout"
        }
      ]
    },
    {
      "cell_type": "code",
      "metadata": {
        "colab": {
          "base_uri": "https://localhost:8080/"
        },
        "id": "V-3Z7ylAy37o",
        "outputId": "7c96bfd6-9d0a-4084-f7f4-bfad8c784280"
      },
      "source": [
        "after_reshape3= ones_array.reshape(3,-1)\n",
        "print(\"reshape(3, -1)? \\n\")\n",
        "print(after_reshape3)\n",
        "print(\"Data Shape is:\", after_reshape3.shape)"
      ],
      "execution_count": null,
      "outputs": [
        {
          "output_type": "stream",
          "text": [
            "reshape(3, -1)? \n",
            "\n",
            "[[1 1 1 1]\n",
            " [1 1 1 1]\n",
            " [1 1 1 1]]\n",
            "Data Shape is: (3, 4)\n"
          ],
          "name": "stdout"
        }
      ]
    },
    {
      "cell_type": "markdown",
      "metadata": {
        "id": "GstEZd64zStx"
      },
      "source": [
        "## Numpy 인덱싱과 슬라이딩"
      ]
    },
    {
      "cell_type": "code",
      "metadata": {
        "colab": {
          "base_uri": "https://localhost:8080/"
        },
        "id": "rL9DmiYxzWfd",
        "outputId": "374dc9c1-5224-4a1e-90f0-2a3bb23a4307"
      },
      "source": [
        "my_array = np.arange(start=0, stop=4)\n",
        "print(my_array)"
      ],
      "execution_count": null,
      "outputs": [
        {
          "output_type": "stream",
          "text": [
            "[0 1 2 3]\n"
          ],
          "name": "stdout"
        }
      ]
    },
    {
      "cell_type": "code",
      "metadata": {
        "colab": {
          "base_uri": "https://localhost:8080/"
        },
        "id": "3oNfZi5Y1TzR",
        "outputId": "5c048bf5-05f2-4167-e975-4712ae21167d"
      },
      "source": [
        "print(\"my_array의 1번째 요소, 즉 위치값이 0인 것은: \", my_array[0])"
      ],
      "execution_count": null,
      "outputs": [
        {
          "output_type": "stream",
          "text": [
            "my_array의 1번째 요소, 즉 위치값이 0인 것은:  0\n"
          ],
          "name": "stdout"
        }
      ]
    },
    {
      "cell_type": "code",
      "metadata": {
        "colab": {
          "base_uri": "https://localhost:8080/"
        },
        "id": "6yxjXqcP20dJ",
        "outputId": "a8b5df62-d22f-4338-e751-42ebe19cc283"
      },
      "source": [
        "print(\"my_array[0:3]:\", my_array[0:3])"
      ],
      "execution_count": null,
      "outputs": [
        {
          "output_type": "stream",
          "text": [
            "my_array[0:3]: [0 1 2]\n"
          ],
          "name": "stdout"
        }
      ]
    },
    {
      "cell_type": "code",
      "metadata": {
        "colab": {
          "base_uri": "https://localhost:8080/"
        },
        "id": "cJqUzCRwJzb2",
        "outputId": "23820c37-b569-4bc0-f781-44b15ee9511e"
      },
      "source": [
        "my_array2 = np.arange(start=3,stop=30,step=3)\n",
        "my_array2 = my_array2.reshape(3,3)\n",
        "my_array2"
      ],
      "execution_count": null,
      "outputs": [
        {
          "output_type": "execute_result",
          "data": {
            "text/plain": [
              "array([[ 3,  6,  9],\n",
              "       [12, 15, 18],\n",
              "       [21, 24, 27]])"
            ]
          },
          "metadata": {
            "tags": []
          },
          "execution_count": 41
        }
      ]
    },
    {
      "cell_type": "code",
      "metadata": {
        "colab": {
          "base_uri": "https://localhost:8080/"
        },
        "id": "3cJBd2acKUPs",
        "outputId": "83e2056f-ba0a-4865-ec0a-1e9da99845de"
      },
      "source": [
        "my_array2[0:2,0:2]"
      ],
      "execution_count": null,
      "outputs": [
        {
          "output_type": "execute_result",
          "data": {
            "text/plain": [
              "array([[ 3,  6],\n",
              "       [12, 15]])"
            ]
          },
          "metadata": {
            "tags": []
          },
          "execution_count": 42
        }
      ]
    },
    {
      "cell_type": "code",
      "metadata": {
        "colab": {
          "base_uri": "https://localhost:8080/"
        },
        "id": "69wO0GQlKkiC",
        "outputId": "14e80f79-d805-4082-d8c2-daf37725bfba"
      },
      "source": [
        "my_array2[1:3,:]"
      ],
      "execution_count": null,
      "outputs": [
        {
          "output_type": "execute_result",
          "data": {
            "text/plain": [
              "array([[12, 15, 18],\n",
              "       [21, 24, 27]])"
            ]
          },
          "metadata": {
            "tags": []
          },
          "execution_count": 43
        }
      ]
    },
    {
      "cell_type": "code",
      "metadata": {
        "colab": {
          "base_uri": "https://localhost:8080/"
        },
        "id": "ccL1VZKpMbVG",
        "outputId": "3072e75b-cc37-4bb8-b3ec-6d42f2c912b8"
      },
      "source": [
        "my_array2[:,:]"
      ],
      "execution_count": null,
      "outputs": [
        {
          "output_type": "execute_result",
          "data": {
            "text/plain": [
              "array([[ 3,  6,  9],\n",
              "       [12, 15, 18],\n",
              "       [21, 24, 27]])"
            ]
          },
          "metadata": {
            "tags": []
          },
          "execution_count": 44
        }
      ]
    },
    {
      "cell_type": "markdown",
      "metadata": {
        "id": "C-pdJwC7MZWy"
      },
      "source": [
        "## Numpy 정렬"
      ]
    },
    {
      "cell_type": "markdown",
      "metadata": {
        "id": "qgEjG5sYYpME"
      },
      "source": [
        "### sort()"
      ]
    },
    {
      "cell_type": "code",
      "metadata": {
        "colab": {
          "base_uri": "https://localhost:8080/"
        },
        "id": "1JdGW5yXMiuD",
        "outputId": "5f2c25ed-94fd-46ae-aa68-437cedbce1cb"
      },
      "source": [
        "height_arr = np.array([174, 165, 180, 182, 168])\n",
        "sorted_height_arr = np.sort(height_arr)\n",
        "\n",
        "print('Height Matrix: ', height_arr)\n",
        "print('np.sort() Matrix: ', sorted_height_arr)"
      ],
      "execution_count": null,
      "outputs": [
        {
          "output_type": "stream",
          "text": [
            "Height Matrix:  [174 165 180 182 168]\n",
            "np.sort() Matrix:  [165 168 174 180 182]\n"
          ],
          "name": "stdout"
        }
      ]
    },
    {
      "cell_type": "code",
      "metadata": {
        "colab": {
          "base_uri": "https://localhost:8080/"
        },
        "id": "mZSdiSkeNzxM",
        "outputId": "debc669e-3018-47df-833e-a5e5021088b8"
      },
      "source": [
        "desc_sorted_height_arr = np.sort(height_arr)[::-1]\n",
        "print('np.sort()[::-1] : ', desc_sorted_height_arr)"
      ],
      "execution_count": null,
      "outputs": [
        {
          "output_type": "stream",
          "text": [
            "np.sort()[::-1] :  [182 180 174 168 165]\n"
          ],
          "name": "stdout"
        }
      ]
    },
    {
      "cell_type": "markdown",
      "metadata": {
        "id": "FfX7eR5MYoNB"
      },
      "source": [
        "### argsort()"
      ]
    },
    {
      "cell_type": "code",
      "metadata": {
        "colab": {
          "base_uri": "https://localhost:8080/"
        },
        "id": "J1PQHys4Ysy3",
        "outputId": "8e55d8d9-02a8-4a32-81c7-7594b2469292"
      },
      "source": [
        "fives = np.array([10, 5, 15, 20])\n",
        "fives_order = fives.argsort()\n",
        "\n",
        "print(\"The original data\", fives)\n",
        "print(\"The argsort(): \", fives_order)\n",
        "print(\"The asending:\", fives[fives_order])"
      ],
      "execution_count": null,
      "outputs": [
        {
          "output_type": "stream",
          "text": [
            "The original data [10  5 15 20]\n",
            "The argsort():  [1 0 2 3]\n",
            "The asending: [ 5 10 15 20]\n"
          ],
          "name": "stdout"
        }
      ]
    }
  ]
}