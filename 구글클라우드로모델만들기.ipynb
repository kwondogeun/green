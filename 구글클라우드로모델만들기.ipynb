{
  "nbformat": 4,
  "nbformat_minor": 0,
  "metadata": {
    "colab": {
      "name": "Untitled4.ipynb",
      "provenance": [],
      "authorship_tag": "ABX9TyNvFEehdw5kH/Ap2aU9OtqF",
      "include_colab_link": true
    },
    "kernelspec": {
      "name": "python3",
      "display_name": "Python 3"
    },
    "language_info": {
      "name": "python"
    }
  },
  "cells": [
    {
      "cell_type": "markdown",
      "metadata": {
        "id": "view-in-github",
        "colab_type": "text"
      },
      "source": [
        "<a href=\"https://colab.research.google.com/github/kwondogeun/green/blob/main/%EA%B5%AC%EA%B8%80%ED%81%B4%EB%9D%BC%EC%9A%B0%EB%93%9C%EB%A1%9C%EB%AA%A8%EB%8D%B8%EB%A7%8C%EB%93%A4%EA%B8%B0.ipynb\" target=\"_parent\"><img src=\"https://colab.research.google.com/assets/colab-badge.svg\" alt=\"Open In Colab\"/></a>"
      ]
    },
    {
      "cell_type": "markdown",
      "source": [
        "# 1단계 : 모델 만들기 SQL 코드"
      ],
      "metadata": {
        "id": "-APXuOJ1l1My"
      }
    },
    {
      "cell_type": "code",
      "execution_count": null,
      "metadata": {
        "id": "shWHNl2Yl0fL"
      },
      "outputs": [],
      "source": [
        "#standardSQL\n",
        "CREATE OR REPLACE MODEL `bqml_practice.penguins_model`\n",
        "OPTIONS\n",
        "  (model_type='linear_reg',\n",
        "  input_label_cols=['body_mass_g']) AS\n",
        "SELECT\n",
        "  *\n",
        "FROM\n",
        "  `bigquery-public-data.ml_datasets.penguins`\n",
        "WHERE\n",
        "  body_mass_g IS NOT NULL"
      ]
    },
    {
      "cell_type": "markdown",
      "source": [
        "# 학습한 모델의 정보를 알고 싶다."
      ],
      "metadata": {
        "id": "6r0opftKl5p4"
      }
    },
    {
      "cell_type": "code",
      "source": [
        "SELECT\n",
        "  *\n",
        "FROM\n",
        "  ML.TRAINING_INFO(MODEL `bqml_practice.penguins_model`)"
      ],
      "metadata": {
        "id": "cJJ6FQK2l7LY"
      },
      "execution_count": null,
      "outputs": []
    },
    {
      "cell_type": "markdown",
      "source": [
        "# 2단계: 모델 평가"
      ],
      "metadata": {
        "id": "O5BthZQtl8xA"
      }
    },
    {
      "cell_type": "code",
      "source": [
        "SELECT\n",
        "  *\n",
        "FROM\n",
        "  ML.EVALUATE(MODEL `bqml_practice.penguins_model`,\n",
        "    (\n",
        "    SELECT\n",
        "      *\n",
        "    FROM\n",
        "      `bigquery-public-data.ml_datasets.penguins`\n",
        "    WHERE\n",
        "      body_mass_g IS NOT NULL))"
      ],
      "metadata": {
        "id": "T8VcEqM4l_Jg"
      },
      "execution_count": null,
      "outputs": []
    },
    {
      "cell_type": "markdown",
      "source": [
        "# 3단계: 모델 사용하여 결과 예측"
      ],
      "metadata": {
        "id": "VhgXr-m8l_8g"
      }
    },
    {
      "cell_type": "code",
      "source": [
        "SELECT\n",
        "  *\n",
        "FROM\n",
        "  ML.PREDICT(MODEL `bqml_tutorial.penguins_model`,\n",
        "    (\n",
        "    SELECT\n",
        "      *\n",
        "    FROM\n",
        "      `bigquery-public-data.ml_datasets.penguins`\n",
        "    WHERE\n",
        "      body_mass_g IS NOT NULL\n",
        "      AND island = \"Biscoe\"))"
      ],
      "metadata": {
        "id": "rlu2SqHemBRI"
      },
      "execution_count": null,
      "outputs": []
    }
  ]
}